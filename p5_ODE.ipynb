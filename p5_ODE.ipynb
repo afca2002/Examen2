{
 "cells": [
  {
   "cell_type": "code",
   "execution_count": 23,
   "metadata": {},
   "outputs": [
    {
     "name": "stdout",
     "output_type": "stream",
     "text": [
      "The autoreload extension is already loaded. To reload it, use:\n",
      "  %reload_ext autoreload\n"
     ]
    }
   ],
   "source": [
    "%load_ext autoreload"
   ]
  },
  {
   "cell_type": "markdown",
   "metadata": {},
   "source": [
    "# ODE"
   ]
  },
  {
   "cell_type": "markdown",
   "metadata": {},
   "source": [
    "## Ejercicio 1\n",
    "$y'= -5y+5t^2+2t$\n",
    "* $0 \\le t \\le 1$\n",
    "* $y(t_0)=1/3$\n",
    "* $N=10$\n",
    "\n"
   ]
  },
  {
   "cell_type": "code",
   "execution_count": 24,
   "metadata": {},
   "outputs": [],
   "source": [
    "%autoreload 2\n",
    "from src import ODE_euler\n"
   ]
  },
  {
   "cell_type": "markdown",
   "metadata": {},
   "source": [
    "## Comparación con la solución real\n",
    "La solución real de la ecuación diferencial es:\n",
    "$y(t)=t^2 +1/3e^{-5t}$\n",
    "\n",
    "* Grafique la solución real y la aproximación obtenida con el método de Euler en una misma gráfica.\n",
    "\n"
   ]
  },
  {
   "cell_type": "code",
   "execution_count": null,
   "metadata": {},
   "outputs": [],
   "source": []
  },
  {
   "cell_type": "markdown",
   "metadata": {},
   "source": [
    "# Errores\n",
    "Calcule el eeror relativo para diferentes valores de N."
   ]
  },
  {
   "cell_type": "code",
   "execution_count": 25,
   "metadata": {},
   "outputs": [],
   "source": [
    "# Calcular error relativo"
   ]
  },
  {
   "cell_type": "code",
   "execution_count": null,
   "metadata": {},
   "outputs": [],
   "source": [
    "\n",
    "\n",
    "import numpy as np\n",
    "import matplotlib.pyplot as plt\n",
    "from math import exp\n",
    "\n",
    "def ODE_euler(a, b, y_t0, f, N):\n",
    "    \"\"\"Resuelve la ecuación diferencial usando el método de Euler.\"\"\"\n",
    "    h = (b - a) / N\n",
    "    ts = np.linspace(a, b, N + 1)\n",
    "    ys = [y_t0]\n",
    "    \n",
    "    for i in range(N):\n",
    "        ys.append(ys[-1] + h * f(ts[i], ys[-1]))\n",
    "    \n",
    "    return ys, ts, h\n",
    "\n",
    "def ODE_euler_nth(a, b, y_t0, f, df, N):\n",
    "    \"\"\"Resuelve la ecuación diferencial usando el método de Taylor de 2do orden.\"\"\"\n",
    "    h = (b - a) / N\n",
    "    ts = np.linspace(a, b, N + 1)\n",
    "    ys = [y_t0]\n",
    "    \n",
    "    for i in range(N):\n",
    "        y_n = ys[-1] + h * f(ts[i], ys[-1]) + (h**2 / 2) * df(ts[i], ys[-1])\n",
    "        ys.append(y_n)\n",
    "    \n",
    "    return ys, ts, h\n",
    "\n",
    "f = lambda t, y: -5*y + 5*t**2 + 2*t\n",
    "y_t0 = 1/3\n",
    "a = 0\n",
    "b = 1\n",
    "N = 10\n",
    "\n",
    "ys, ts, h = ODE_euler(a, b, y_t0, f, N)\n",
    "\n",
    "y_real = lambda t: t**2 + 1 / 3 * exp(-5 * t)\n",
    "t_true = np.linspace(a, b, 100)\n",
    "y_true = [y_real(t) for t in t_true]\n",
    "\n",
    "plt.plot(t_true, y_true, label=\"Solución Real\", color='black')\n",
    "plt.plot(ts, ys, marker=\"o\", linestyle=\":\", label=\"Euler\", color='red')\n",
    "\n",
    "\n",
    "# Calcular error relativo\n",
    "def error_relativo(y_aprox, y_real):\n",
    "    return np.abs((y_real - y_aprox) / y_real)\n",
    "\n",
    "y_true_interp = [y_real(t) for t in ts]\n",
    "error_euler = error_relativo(np.array(ys), np.array(y_true_interp))\n",
    "y_taylor_interp = [y_real(t) for t in ts_taylor]\n",
    "error_taylor = error_relativo(np.array(y_taylor), np.array(y_taylor_interp))\n",
    "\n",
    "plt.plot(ts, error_euler, marker=\"o\", linestyle=\":\", label=\"Error Euler\", color='red')\n",
    "plt.plot(ts_taylor, error_taylor, marker=\"s\", linestyle=\"--\", label=\"Error Taylor\", color='blue')\n",
    "plt.xlabel(\"Tiempo\")\n",
    "plt.ylabel(\"Error Relativo\")\n",
    "plt.title(\"Comparación de Errores\")\n",
    "plt.legend()\n",
    "plt.show()"
   ]
  }
 ],
 "metadata": {
  "kernelspec": {
   "display_name": "Python 3",
   "language": "python",
   "name": "python3"
  },
  "language_info": {
   "codemirror_mode": {
    "name": "ipython",
    "version": 3
   },
   "file_extension": ".py",
   "mimetype": "text/x-python",
   "name": "python",
   "nbconvert_exporter": "python",
   "pygments_lexer": "ipython3",
   "version": "3.10.11"
  }
 },
 "nbformat": 4,
 "nbformat_minor": 2
}
