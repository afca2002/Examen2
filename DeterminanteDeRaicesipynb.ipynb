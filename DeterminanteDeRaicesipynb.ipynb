{
  "nbformat": 4,
  "nbformat_minor": 0,
  "metadata": {
    "colab": {
      "provenance": []
    },
    "kernelspec": {
      "name": "python3",
      "display_name": "Python 3"
    },
    "language_info": {
      "name": "python"
    }
  },
  "cells": [
    {
      "cell_type": "markdown",
      "source": [
        "\n",
        "## Enunciado de la pregunta\n",
        "## Determine todas las raíces del polinomio\n",
        "\n",
        "$x5−6∗x4+2∗x3+20∗x2−27∗x+10=0$"
      ],
      "metadata": {
        "id": "KhR9_cmIWLgq"
      }
    },
    {
      "cell_type": "code",
      "execution_count": 3,
      "metadata": {
        "colab": {
          "base_uri": "https://localhost:8080/"
        },
        "id": "qDOAO9S8WIRB",
        "outputId": "a82fc277-ea3e-4dd3-c49a-ade7c98c7562"
      },
      "outputs": [
        {
          "output_type": "stream",
          "name": "stdout",
          "text": [
            "x_1 = -2.0\n",
            "x_2 = 0.9999938093277744\n",
            "x_3 = 5.0\n",
            "x_4 = nan\n",
            "x_5 = nan\n",
            "x_6 = nan\n"
          ]
        }
      ],
      "source": [
        "from scipy.optimize import fsolve\n",
        "import numpy as np\n",
        "\n",
        "def polynomial(x):\n",
        "    return x**5 - 6*x**4 + 2*x**3 + 20*x**2 - 27*x + 10\n",
        "\n",
        "\n",
        "initial_guesses = [-3, -1, 0, 1, 3, 5]\n",
        "\n",
        "roots = []\n",
        "for guess in initial_guesses:\n",
        "    root = fsolve(polynomial, guess)[0]\n",
        "\n",
        "    if not any(np.isclose(root, r, atol=1e-5) for r in roots):\n",
        "        roots.append(root)\n",
        "\n",
        "# Ordenar las raíces en orden ascendente\n",
        "roots = np.sort(roots)\n",
        "\n",
        "# Completar con 'NaN' si hay menos de 6 raíces\n",
        "while len(roots) < 6:\n",
        "    roots = np.append(roots, np.nan)\n",
        "\n",
        "# Imprimir las raíces\n",
        "for i, root in enumerate(roots, start=1):\n",
        "    print(f\"x_{i} = {root}\")\n"
      ]
    }
  ]
}